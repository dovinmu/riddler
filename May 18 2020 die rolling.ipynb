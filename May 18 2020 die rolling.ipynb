{
 "cells": [
  {
   "cell_type": "markdown",
   "metadata": {},
   "source": [
    "## Can You Find The Best Dungeons & Dragons Strategy? "
   ]
  },
  {
   "cell_type": "markdown",
   "metadata": {},
   "source": [
    "(from [here](https://fivethirtyeight.com/features/can-you-find-the-best-dungeons-dragons-strategy/))\n",
    "\n",
    "Classic:\n",
    "The fifth edition of Dungeons & Dragons introduced a system of “advantage and disadvantage.” When you roll a die “with advantage,” you roll the die twice and keep the higher result. Rolling “with disadvantage” is similar, except you keep the lower result instead. The rules further specify that when a player rolls with both advantage and disadvantage, they cancel out, and the player rolls a single die. Yawn!\n",
    "\n",
    "There are two other, more mathematically interesting ways that advantage and disadvantage could be combined. First, you could have “advantage of disadvantage,” meaning you roll twice with disadvantage and then keep the higher result. Or, you could have “disadvantage of advantage,” meaning you roll twice with advantage and then keep the lower result. With a fair 20-sided die, which situation produces the highest expected roll: advantage of disadvantage, disadvantage of advantage or rolling a single die?"
   ]
  },
  {
   "cell_type": "markdown",
   "metadata": {},
   "source": [
    "---\n",
    "I'm using this as an excuse to practice writing in Julia, but first I'm going to write this out in Python."
   ]
  },
  {
   "cell_type": "markdown",
   "metadata": {},
   "source": [
    "```python\n",
    "import random\n",
    "import time\n",
    "\n",
    "def roll(num):\n",
    "    return random.randint(1, num+1)\n",
    "\n",
    "def roll_with_advantage(num):\n",
    "    return max(roll(num), roll(num))\n",
    "\n",
    "def roll_with_disadvantage(num):\n",
    "    return min(roll(num), roll(num))\n",
    "    \n",
    "def roll_with_advantage_of_disadgantage(num):\n",
    "    return max(roll_with_disadvantage(num), roll_with_disadvantage(num))\n",
    "\n",
    "def roll_with_disadgantage_of_advantage(num):\n",
    "    return max(roll_with_disadvantage(num), roll_with_disadvantage(num))\n",
    "\n",
    "sim_count = 1_000_000\n",
    "start = time.time()\n",
    "print('advantage of disadvantage expected value:', sum([roll_with_advantage_of_disadgantage(20) for i in range(sim_count)]) / sim_count)\n",
    "print('advantage of disadvantage expected value:', sum([roll_with_disadgantage_of_advantage(20) for i in range(sim_count)]) / sim_count)\n",
    "print(\"took\", time.time() - start, \"seconds\")\n",
    "```\n",
    "Output:\n",
    "```\n",
    "advantage of disadvantage expected value: 10.297862\n",
    "advantage of disadvantage expected value: 10.299535\n",
    "took 13.398523330688477 seconds\n",
    "```"
   ]
  },
  {
   "cell_type": "code",
   "execution_count": 1,
   "metadata": {},
   "outputs": [],
   "source": [
    "using Random"
   ]
  },
  {
   "cell_type": "code",
   "execution_count": 56,
   "metadata": {},
   "outputs": [],
   "source": [
    "roll(num) = Random.rand(1:num);"
   ]
  },
  {
   "cell_type": "code",
   "execution_count": 55,
   "metadata": {},
   "outputs": [],
   "source": [
    "roll_with_advantage(num) = max(roll(num), roll(num));"
   ]
  },
  {
   "cell_type": "code",
   "execution_count": 54,
   "metadata": {},
   "outputs": [],
   "source": [
    "roll_with_disadvantage(num) = min(roll(num), roll(num))\n",
    "roll_with_advantage_of_disadgantage(num) = \n",
    "    max(roll_with_disadvantage(num), roll_with_disadvantage(num))\n",
    "roll_with_disadgantage_of_advantage(num) = \n",
    "    max(roll_with_disadvantage(num), roll_with_disadvantage(num));"
   ]
  },
  {
   "cell_type": "markdown",
   "metadata": {},
   "source": [
    "Since Julia is a compiled language, we can go bigger"
   ]
  },
  {
   "cell_type": "code",
   "execution_count": 77,
   "metadata": {
    "scrolled": true
   },
   "outputs": [
    {
     "data": {
      "text/plain": [
       "1000000000"
      ]
     },
     "execution_count": 77,
     "metadata": {},
     "output_type": "execute_result"
    }
   ],
   "source": [
    "sim_count = 1_000_000_000"
   ]
  },
  {
   "cell_type": "code",
   "execution_count": 78,
   "metadata": {},
   "outputs": [
    {
     "data": {
      "text/plain": [
       "1000000000-element Array{Int64,1}:\n",
       " 20\n",
       " 20\n",
       " 20\n",
       " 20\n",
       " 20\n",
       " 20\n",
       " 20\n",
       " 20\n",
       " 20\n",
       " 20\n",
       " 20\n",
       " 20\n",
       " 20\n",
       "  ⋮\n",
       " 20\n",
       " 20\n",
       " 20\n",
       " 20\n",
       " 20\n",
       " 20\n",
       " 20\n",
       " 20\n",
       " 20\n",
       " 20\n",
       " 20\n",
       " 20"
      ]
     },
     "execution_count": 78,
     "metadata": {},
     "output_type": "execute_result"
    }
   ],
   "source": [
    "array_20s = ones(Int64, sim_count)*20"
   ]
  },
  {
   "cell_type": "code",
   "execution_count": 79,
   "metadata": {},
   "outputs": [
    {
     "name": "stdout",
     "output_type": "stream",
     "text": [
      " 41.626106 seconds (5 allocations: 7.451 GiB, 1.95% gc time)\n"
     ]
    },
    {
     "data": {
      "text/plain": [
       "10.50022017"
      ]
     },
     "execution_count": 79,
     "metadata": {},
     "output_type": "execute_result"
    }
   ],
   "source": [
    "@time sum(map(roll, array_20s)) / sim_count"
   ]
  },
  {
   "cell_type": "code",
   "execution_count": 80,
   "metadata": {},
   "outputs": [
    {
     "name": "stdout",
     "output_type": "stream",
     "text": [
      " 91.460570 seconds (9 allocations: 22.352 GiB, 2.45% gc time)\n"
     ]
    },
    {
     "data": {
      "text/plain": [
       "13.824723676"
      ]
     },
     "execution_count": 80,
     "metadata": {},
     "output_type": "execute_result"
    }
   ],
   "source": [
    "@time sum(map(roll_with_advantage, ones(Int64, sim_count)*20)) / sim_count"
   ]
  },
  {
   "cell_type": "code",
   "execution_count": 81,
   "metadata": {},
   "outputs": [
    {
     "name": "stdout",
     "output_type": "stream",
     "text": [
      " 82.397104 seconds (9 allocations: 22.352 GiB, 2.84% gc time)\n"
     ]
    },
    {
     "data": {
      "text/plain": [
       "7.175035127"
      ]
     },
     "execution_count": 81,
     "metadata": {},
     "output_type": "execute_result"
    }
   ],
   "source": [
    "@time sum(map(roll_with_disadvantage, ones(Int64, sim_count)*20)) / sim_count"
   ]
  },
  {
   "cell_type": "code",
   "execution_count": 82,
   "metadata": {},
   "outputs": [
    {
     "name": "stdout",
     "output_type": "stream",
     "text": [
      "147.028551 seconds (9 allocations: 22.352 GiB, 1.86% gc time)\n"
     ]
    },
    {
     "data": {
      "text/plain": [
       "9.83327057"
      ]
     },
     "execution_count": 82,
     "metadata": {},
     "output_type": "execute_result"
    }
   ],
   "source": [
    "@time sum(map(roll_with_advantage_of_disadgantage, \n",
    "        ones(Int64, sim_count)*20)) / sim_count"
   ]
  },
  {
   "cell_type": "code",
   "execution_count": 83,
   "metadata": {},
   "outputs": [
    {
     "name": "stdout",
     "output_type": "stream",
     "text": [
      "138.238172 seconds (9 allocations: 22.352 GiB, 1.48% gc time)\n"
     ]
    },
    {
     "data": {
      "text/plain": [
       "9.833300927"
      ]
     },
     "execution_count": 83,
     "metadata": {},
     "output_type": "execute_result"
    }
   ],
   "source": [
    "@time sum(map(roll_with_disadgantage_of_advantage, \n",
    "        ones(Int64, sim_count)*20)) / sim_count"
   ]
  },
  {
   "cell_type": "markdown",
   "metadata": {},
   "source": [
    "It looks like we'd expect better rolls from roll_with_disadgantage_of_advantage, but only just barely.\n",
    "\n",
    "`E(roll_with_disadgantage_of_advantage) > E(roll_with_advantage_of_disadgantage)`\n",
    "\n",
    "It would be nice to see the mathematical proof for this. Also, the Julia computations took about 2% the time that the Python code ran in per array item, and are more expressive <3"
   ]
  }
 ],
 "metadata": {
  "kernelspec": {
   "display_name": "Julia 1.4.1",
   "language": "julia",
   "name": "julia-1.4"
  },
  "language_info": {
   "file_extension": ".jl",
   "mimetype": "application/julia",
   "name": "julia",
   "version": "1.4.1"
  }
 },
 "nbformat": 4,
 "nbformat_minor": 2
}
